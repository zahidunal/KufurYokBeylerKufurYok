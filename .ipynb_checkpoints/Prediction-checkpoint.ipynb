{
 "cells": [
  {
   "cell_type": "code",
   "execution_count": 331,
   "metadata": {},
   "outputs": [],
   "source": [
    "import numpy as np\n",
    "import joblib\n",
    "import nltk,re\n",
    "from nltk.corpus import stopwords\n",
    "\n",
    "vectorizer = joblib.load('model/vectorizer.joblib')\n",
    "model = joblib.load('model/model.joblib')\n",
    "\n",
    "def _get_profane_prob(prob):\n",
    "  return prob[1]\n",
    "\n",
    "def predict(texts):\n",
    "  return model.predict(vectorizer.transform(texts))\n",
    "\n",
    "def predict_prob(texts):\n",
    "  return np.apply_along_axis(_get_profane_prob, 1, model.predict_proba(vectorizer.transform(texts)))\n",
    "\n",
    "def reg_ex(datatext):\n",
    "    wordslist = []\n",
    "    stop_words = list(stopwords.words('turkish'))\n",
    "    newStopWords = ['bir','şimdi','ilk','birlikte','ancak','yerine','değil','bugün','olur','oldu',\n",
    "                    'hemen','fakat','önce','içinde','birçok','var','hatta','hiçbir','içinde','önce',\n",
    "                    'bunun','yine','sonra','son','olarak','kadar','bile','nun','nın','nin','sadece','diğer','tıklayarak','link','linke','dinleyebilirsiniz']\n",
    "    sw1f = [l.split(\" \")[1].strip() for l in open('TurkishStopWords/1.txt').readlines()[:-1] ]\n",
    "    sw2f = [l.strip() for l in open('TurkishStopWords/2.txt').readlines()[:-1] ]\n",
    "    stop_words.extend(newStopWords)\n",
    "    stop_words.extend(sw1f)\n",
    "    stop_words.extend(sw2f)\n",
    "    for sntnces in nltk.sent_tokenize(datatext):\n",
    "        for word in  nltk.word_tokenize(sntnces):\n",
    "            word = s = re.sub(r'[^\\w\\s]','',word)\n",
    "            if re.match('^[\\w-]+$', word) and not word in stop_words:\n",
    "                wordslist.append(word)\n",
    "    return \" \".join(wordslist)\n",
    "\n",
    "def isKufur(text):\n",
    "    orig_text = text\n",
    "    text = reg_ex(text)\n",
    "    kufur_olasilik = predict_prob([text])[0]\n",
    "    if kufur_olasilik>0.90:\n",
    "        print(orig_text)\n",
    "        print(kufur_olasilik,'Küfür')\n",
    "    else:\n",
    "        print('Küfür Değil')\n",
    "\n"
   ]
  },
  {
   "cell_type": "code",
   "execution_count": 332,
   "metadata": {},
   "outputs": [
    {
     "name": "stdout",
     "output_type": "stream",
     "text": [
      "1293 ağacı kökünden ananı götünden sikeyim ercüment çözer\n",
      "0.9999999657174262 Küfür\n"
     ]
    }
   ],
   "source": [
    "isKufur('1293 ağacı kökünden ananı götünden sikeyim ercüment çözer')"
   ]
  },
  {
   "cell_type": "code",
   "execution_count": 333,
   "metadata": {},
   "outputs": [
    {
     "name": "stdout",
     "output_type": "stream",
     "text": [
      "taşşak\n",
      "0.9811959526221639 Küfür\n"
     ]
    }
   ],
   "source": [
    "isKufur('taşşak')"
   ]
  },
  {
   "cell_type": "code",
   "execution_count": 334,
   "metadata": {},
   "outputs": [
    {
     "name": "stdout",
     "output_type": "stream",
     "text": [
      "annene söyle ikide bir ruj değiştirip durmasın sikim gökkuşağına döndü\n",
      "0.9932237592120595 Küfür\n"
     ]
    }
   ],
   "source": [
    "isKufur('annene söyle ikide bir ruj değiştirip durmasın sikim gökkuşağına döndü')"
   ]
  },
  {
   "cell_type": "code",
   "execution_count": 335,
   "metadata": {},
   "outputs": [
    {
     "name": "stdout",
     "output_type": "stream",
     "text": [
      "a.q'mun götü\n",
      "0.9498728344601401 Küfür\n"
     ]
    }
   ],
   "source": [
    "isKufur(\"a.q'mun götü\")"
   ]
  },
  {
   "cell_type": "code",
   "execution_count": 336,
   "metadata": {},
   "outputs": [
    {
     "name": "stdout",
     "output_type": "stream",
     "text": [
      "Küfür Değil\n"
     ]
    }
   ],
   "source": [
    "isKufur(\"Pandeminin başlangıcından bu yana bağışıklık meselesi sağlık gündemimizin bir numaralı maddesiydi.\")"
   ]
  },
  {
   "cell_type": "code",
   "execution_count": 337,
   "metadata": {},
   "outputs": [
    {
     "name": "stdout",
     "output_type": "stream",
     "text": [
      "O.Ç.\n",
      "0.9969758247627846 Küfür\n"
     ]
    }
   ],
   "source": [
    "isKufur(\"O.Ç.\")"
   ]
  },
  {
   "cell_type": "code",
   "execution_count": 338,
   "metadata": {},
   "outputs": [
    {
     "name": "stdout",
     "output_type": "stream",
     "text": [
      "Küfür Değil\n"
     ]
    }
   ],
   "source": [
    "isKufur('Türkçe haberler üzerinde çalışan bir sınıflandırıcı için bir süredir Türkçe haber metinleri biriktiriyorum. ')"
   ]
  },
  {
   "cell_type": "code",
   "execution_count": 339,
   "metadata": {},
   "outputs": [
    {
     "name": "stdout",
     "output_type": "stream",
     "text": [
      "Küfür Değil\n"
     ]
    }
   ],
   "source": [
    "isKufur('İki numaralı gündem maddesi ise 65 yaş üzerindekilere getirilen kısıtlamalar oldu. Yasaklar hep onlarda yoğunlaştırıldı, herhangi bir kısıtlama olduğunda da gözler hemen ve anında onlara çevrildi. Aslında bu sürpriz bir gelişme de değildi. Zira bir ve iki numaralı gündem maddeleri zaten iç içeydi: Yaş ilerledikçe bağışıklık zayıflıyor, hastalığa yakalanma ihtimali de onu ağır geçirme olasılığı da artıyordu. Peki, bağışıklık gücündeki yaşa bağlı azalmanın nedeni neydi? Ve bir soru daha: Bu güç azalması yavaşlatılabilir, bağışıklık yaşı düşürülebilir miydi? Bu ve benzer soruların yanıtları için buyurun...')"
   ]
  },
  {
   "cell_type": "code",
   "execution_count": 340,
   "metadata": {},
   "outputs": [
    {
     "name": "stdout",
     "output_type": "stream",
     "text": [
      "İki numaralı gündem maddesi ise 65 yaş üzerindekilere getirilen kısıtlamalar oldu. Yasaklar hep onlarda yoğunlaştırıldı, herhangi bir kısıtlama olduğunda da gözler hemen ve anında onlara çevrildi. Aslında bu sürpriz bir gelişme de değildi. Zira bir ve iki numaralı gündem maddeleri zaten iç içeydi: Yaş ilerledikçe bağışıklık zayıflıyor, hastalığa yakalanma ihtimali de onu ağır geçirme olasılığı da artıyordu. Peki, bağışıklık gücündeki yaşa bağlı azalmanın nedeni neydi? Amk böyle işin Ve bir soru daha: Bu güç azalması yavaşlatılabilir, bağışıklık yaşı düşürülebilir miydi? Bu ve benzer soruların yanıtları için buyurun...\n",
      "0.9721896641356211 Küfür\n"
     ]
    }
   ],
   "source": [
    "isKufur('İki numaralı gündem maddesi ise 65 yaş üzerindekilere getirilen kısıtlamalar oldu. Yasaklar hep onlarda yoğunlaştırıldı, herhangi bir kısıtlama olduğunda da gözler hemen ve anında onlara çevrildi. Aslında bu sürpriz bir gelişme de değildi. Zira bir ve iki numaralı gündem maddeleri zaten iç içeydi: Yaş ilerledikçe bağışıklık zayıflıyor, hastalığa yakalanma ihtimali de onu ağır geçirme olasılığı da artıyordu. Peki, bağışıklık gücündeki yaşa bağlı azalmanın nedeni neydi? Amk böyle işin Ve bir soru daha: Bu güç azalması yavaşlatılabilir, bağışıklık yaşı düşürülebilir miydi? Bu ve benzer soruların yanıtları için buyurun...')"
   ]
  },
  {
   "cell_type": "code",
   "execution_count": null,
   "metadata": {},
   "outputs": [],
   "source": []
  },
  {
   "cell_type": "code",
   "execution_count": null,
   "metadata": {},
   "outputs": [],
   "source": []
  },
  {
   "cell_type": "code",
   "execution_count": null,
   "metadata": {},
   "outputs": [],
   "source": []
  }
 ],
 "metadata": {
  "kernelspec": {
   "display_name": "Python 3",
   "language": "python",
   "name": "python3"
  },
  "language_info": {
   "codemirror_mode": {
    "name": "ipython",
    "version": 3
   },
   "file_extension": ".py",
   "mimetype": "text/x-python",
   "name": "python",
   "nbconvert_exporter": "python",
   "pygments_lexer": "ipython3",
   "version": "3.8.3"
  }
 },
 "nbformat": 4,
 "nbformat_minor": 4
}
